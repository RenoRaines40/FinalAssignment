{
  "metadata": {
    "kernelspec": {
      "name": "python",
      "display_name": "Python (Pyodide)",
      "language": "python"
    },
    "language_info": {
      "codemirror_mode": {
        "name": "python",
        "version": 3
      },
      "file_extension": ".py",
      "mimetype": "text/x-python",
      "name": "python",
      "nbconvert_exporter": "python",
      "pygments_lexer": "ipython3",
      "version": "3.8"
    }
  },
  "nbformat_minor": 5,
  "nbformat": 4,
  "cells": [
    {
      "id": "f93e8229-c646-460e-9513-a90af07d2301",
      "cell_type": "markdown",
      "source": "# Data Science Tools and Ecosystem",
      "metadata": {}
    },
    {
      "id": "45896e5f-a711-4c41-b3c0-d1ea6a1357b1",
      "cell_type": "markdown",
      "source": "In this notebook, Data Science Tools and Ecosystem are summarized.",
      "metadata": {}
    },
    {
      "id": "7db77d31-4ff6-442e-89b4-5b984d26fbc0",
      "cell_type": "markdown",
      "source": "**Objectives:**\n- introduction to datascience\n- data science languages\n- data science libraries",
      "metadata": {}
    },
    {
      "id": "8389e167-462e-4f3b-a2eb-5614fe7e4fd2",
      "cell_type": "markdown",
      "source": "Some of the popular languages that Data Scientists use are:\n1. R\n2. Python\n3. Java",
      "metadata": {},
      "attachments": {}
    },
    {
      "id": "be7154b2-08bb-408f-be03-46a27c1dacb7",
      "cell_type": "markdown",
      "source": "Some of the commonly used libraries used by Data Scientists include:\n- Pandas\n- NumPy\n- mathplotlib",
      "metadata": {}
    },
    {
      "id": "469ed23f-bebf-44ff-96f1-5bd6edaa12a6",
      "cell_type": "markdown",
      "source": "|Data Science Tools|\n|------------------|\n|Jupyter Notebook|\n|Jupyter Labs|\n|IBM Watson|\n",
      "metadata": {}
    },
    {
      "id": "d41d89a2-cbcd-41a0-a900-2068a2ddfe45",
      "cell_type": "markdown",
      "source": "### Below are a few examples of evaluating arithmetic expressions in Python",
      "metadata": {}
    },
    {
      "id": "5383a124-0186-413f-950e-39e61b60c66e",
      "cell_type": "markdown",
      "source": "This a simple arithmetic expression to mutiply then add integers",
      "metadata": {}
    },
    {
      "id": "17a855bf-2dad-46be-b632-3512d5fa32e4",
      "cell_type": "code",
      "source": "(3*4)+5",
      "metadata": {
        "trusted": true
      },
      "outputs": [
        {
          "execution_count": 4,
          "output_type": "execute_result",
          "data": {
            "text/plain": "17"
          },
          "metadata": {}
        }
      ],
      "execution_count": 4
    },
    {
      "id": "df80c39d-1912-4b51-8892-4546c7dfdb9e",
      "cell_type": "markdown",
      "source": "This will convert 200 minutes to hours by diving by 60",
      "metadata": {}
    },
    {
      "id": "dd6a8812-99f8-4be0-b840-1cf2eefaa760",
      "cell_type": "code",
      "source": "200/60",
      "metadata": {
        "trusted": true
      },
      "outputs": [
        {
          "execution_count": 5,
          "output_type": "execute_result",
          "data": {
            "text/plain": "3.3333333333333335"
          },
          "metadata": {}
        }
      ],
      "execution_count": 5
    },
    {
      "id": "6e53262f-2a6b-4dac-9981-449650fa0c1e",
      "cell_type": "markdown",
      "source": "## Author \nFernando Gomero",
      "metadata": {}
    },
    {
      "id": "a1068f7a-0762-4862-98f4-888c8c612852",
      "cell_type": "code",
      "source": "",
      "metadata": {
        "trusted": true
      },
      "outputs": [],
      "execution_count": null
    }
  ]
}